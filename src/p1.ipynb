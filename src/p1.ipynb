{
 "cells": [
  {
   "cell_type": "markdown",
   "metadata": {},
   "source": [
    "# Problem 1 - Multiples of 3 or 5\n",
    "\n",
    "https://projecteuler.net/problem=1\n",
    "\n",
    "If we list all the natural numbers below that are multiples of 3 or 5, we get 3,\n",
    "5, 6, and 9. The sum of these multiples is 23. Find the sum of all the multiples\n",
    "of 3 or 5 below 1000. "
   ]
  },
  {
   "cell_type": "code",
   "execution_count": 1,
   "metadata": {},
   "outputs": [],
   "source": [
    "n = 1000\n",
    "\n",
    "# Filter all numbers that are not divisible by 3 and 5\n",
    "multiples = (i for i in range(n) if i % 3 == 0 or i % 5 == 0)\n",
    "\n",
    "# Calculate the sum of all the multiples\n",
    "answer = sum(multiples)"
   ]
  },
  {
   "cell_type": "code",
   "execution_count": 2,
   "metadata": {},
   "outputs": [
    {
     "name": "stdout",
     "output_type": "stream",
     "text": [
      "The answer is 233168\n"
     ]
    }
   ],
   "source": [
    "print(f\"The answer is {answer}\")"
   ]
  }
 ],
 "metadata": {
  "kernelspec": {
   "display_name": "project-euler-PxOvWIi7-py3.12",
   "language": "python",
   "name": "python3"
  },
  "language_info": {
   "codemirror_mode": {
    "name": "ipython",
    "version": 3
   },
   "file_extension": ".py",
   "mimetype": "text/x-python",
   "name": "python",
   "nbconvert_exporter": "python",
   "pygments_lexer": "ipython3",
   "version": "3.12.4"
  }
 },
 "nbformat": 4,
 "nbformat_minor": 2
}
