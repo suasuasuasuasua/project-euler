{
 "cells": [
  {
   "cell_type": "markdown",
   "metadata": {},
   "source": [
    "# Problem 3 - Largest Prime Factor\n",
    "\n",
    "https://projecteuler.net/problem=3\n",
    "\n",
    "The rpime factors of 13195 are 5, 7, 13, and 29.\n",
    "\n",
    "What is the largest prime factor of the number 600851475143?"
   ]
  },
  {
   "cell_type": "code",
   "execution_count": 1,
   "metadata": {},
   "outputs": [],
   "source": [
    "# The prime number that we are factorizing\n",
    "target_prime = 600851475143"
   ]
  },
  {
   "cell_type": "markdown",
   "metadata": {},
   "source": [
    "## Prime Theory\n",
    "\n",
    "- Each number is either a prime number or the factor of primes (see Fundamental\n",
    "Theorem of Arithmetic).\n",
    "- No *efficient* algorithm exists for factorizing primes which is why\n",
    "cryptographic algorithms like RSA are powerful"
   ]
  },
  {
   "cell_type": "markdown",
   "metadata": {},
   "source": [
    "## Ideas\n",
    "\n",
    "- We could just manually find all prime factors...but that sounds like a bad\n",
    "idea.\n",
    "- I found the General Number Field Sieve (GNFS) which is promising though!\n",
    "  - It can factor integers larger than $10^{100}$\n"
   ]
  },
  {
   "cell_type": "code",
   "execution_count": null,
   "metadata": {},
   "outputs": [],
   "source": [
    "# Before looking at the GNFS, Wikipedia suggests looking at the Rational Sieve\n",
    "# which is less efficient but is easier to conceptually understand (there is\n",
    "# even the Special Number Field Sieve lol).\n",
    "# All the sieves have the common purpose of factoring integers into prime\n",
    "# factors."
   ]
  }
 ],
 "metadata": {
  "kernelspec": {
   "display_name": "project-euler-PxOvWIi7-py3.12",
   "language": "python",
   "name": "python3"
  },
  "language_info": {
   "codemirror_mode": {
    "name": "ipython",
    "version": 3
   },
   "file_extension": ".py",
   "mimetype": "text/x-python",
   "name": "python",
   "nbconvert_exporter": "python",
   "pygments_lexer": "ipython3",
   "version": "3.12.4"
  }
 },
 "nbformat": 4,
 "nbformat_minor": 2
}
